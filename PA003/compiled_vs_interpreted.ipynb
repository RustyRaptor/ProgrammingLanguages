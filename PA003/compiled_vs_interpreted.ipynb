{
 "cells": [
  {
   "cell_type": "markdown",
   "metadata": {},
   "source": [
    "## Comparing compiled vs interpreted language performance.\n",
    "\n",
    "#### Ziad Arafat - 2023-03-05\n",
    "\n",
    "The performance of compiled and interpreted languages has been a topic of interest in programming languages research for decades. While compiled languages are generally known for their faster runtime performance, interpreted languages offer advantages in terms of ease of use and portability. In this experiment, we aimed to explore the practical performance of compiled and interpreted languages in implementing Gaussian elimination with back substitution, a widely used numerical algorithm. We implemented the algorithm in Python and FORTRAN, and tested their runtime performance on matrices of varying size, with and without the use of numpy. The experiment provides insights into the practical trade-offs between compiled and interpreted languages in the context of numerical algorithms."
   ]
  },
  {
   "cell_type": "markdown",
   "metadata": {},
   "source": [
    "#### These commands will clean and compile our fortran program so its ready to execute"
   ]
  },
  {
   "cell_type": "code",
   "execution_count": 1,
   "metadata": {},
   "outputs": [
    {
     "name": "stdout",
     "output_type": "stream",
     "text": [
      "Requirement already satisfied: pip in /home/ziad/angelsshit/lib/python3.8/site-packages (23.0.1)\n"
     ]
    }
   ],
   "source": [
    "!pip install -U pip"
   ]
  },
  {
   "cell_type": "code",
   "execution_count": 2,
   "metadata": {},
   "outputs": [
    {
     "name": "stdout",
     "output_type": "stream",
     "text": [
      "rm -f *.o *.mod\n",
      "gfortran -std=gnu -c mymodule.f90\n",
      "gfortran -std=gnu -c gaussian_elimination.f90\n",
      "gfortran mymodule.o gaussian_elimination.o -o gaussian_elimination\n",
      "# gfortran -std=gnu -o gaussian_elimination gaussian_elimination.f90\n"
     ]
    }
   ],
   "source": [
    "!make clean\n",
    "!make"
   ]
  },
  {
   "cell_type": "markdown",
   "metadata": {},
   "source": [
    "### Python function to generate a random matrix of size nxn"
   ]
  },
  {
   "cell_type": "code",
   "execution_count": 3,
   "metadata": {},
   "outputs": [],
   "source": [
    "import random\n",
    "\n",
    "def generate_matrix_and_vector(n):\n",
    "        \"\"\"\n",
    "        This function generates a random square matrix of size n x n.\n",
    "        \n",
    "        Args:\n",
    "        n: the size of the square matrix\n",
    "        \n",
    "        Returns:\n",
    "        a list of lists representing the random square matrix\n",
    "        \n",
    "        \"\"\"\n",
    "        min_value = -2000.0\n",
    "        max_value = 2000.0\n",
    "        \n",
    "        matrix = []\n",
    "\n",
    "        for row in range(n):\n",
    "                next_row = []\n",
    "                for column in range(n):\n",
    "                        next_row.append(random.uniform(min_value, max_value))\n",
    "                matrix.append(next_row)\n",
    "        vector = [random.uniform(min_value, max_value) for number in range(n)]\n",
    "        \n",
    "        return matrix, vector"
   ]
  },
  {
   "cell_type": "markdown",
   "metadata": {},
   "source": [
    "### Python function to measure our runtime"
   ]
  },
  {
   "cell_type": "code",
   "execution_count": 4,
   "metadata": {},
   "outputs": [],
   "source": [
    "import time\n",
    "\n",
    "def measure_time(func, *args, **kwargs):\n",
    "    \"\"\"\n",
    "    This function measures the time it takes to run another function with a given set of arguments.\n",
    "    \n",
    "    Args:\n",
    "    func: the function to be measured\n",
    "    *args: the positional arguments for the function\n",
    "    **kwargs: the keyword arguments for the function\n",
    "    \n",
    "    Returns:\n",
    "    the runtime of the function in seconds\n",
    "    \n",
    "    \"\"\"\n",
    "    start_time = time.time()\n",
    "    func(*args, **kwargs)\n",
    "    end_time = time.time()\n",
    "    runtime = end_time - start_time\n",
    "    return runtime\n"
   ]
  },
  {
   "cell_type": "markdown",
   "metadata": {},
   "source": [
    "### Python without numpy"
   ]
  },
  {
   "cell_type": "code",
   "execution_count": 5,
   "metadata": {},
   "outputs": [],
   "source": [
    "def gaussian_elimination(matrix, vector):\n",
    "    \"\"\"\n",
    "    This function performs Gaussian elimination with back substitution on a given square matrix A and vector b, \n",
    "    without partial pivoting or using numpy.\n",
    "    \n",
    "    Args:\n",
    "    A: a square matrix of size n x n\n",
    "    b: a vector of length n\n",
    "    \n",
    "    Returns:\n",
    "    x: a vector of length n that represents the solution to the linear system Ax = b\n",
    "    \n",
    "    \"\"\"\n",
    "    n = len(matrix)\n",
    "    \n",
    "    # Forward elimination\n",
    "    for i in range(n):\n",
    "        # Check if the diagonal element is zero\n",
    "        if matrix[i][i] == 0:\n",
    "            raise ValueError('Diagonal element is zero, cannot proceed with Gaussian elimination')\n",
    "        # Normalize the current row\n",
    "        for j in range(i + 1, n):\n",
    "            ratio = matrix[j][i] / matrix[i][i]\n",
    "            for k in range(i, n):\n",
    "                matrix[j][k] -= ratio * matrix[i][k]\n",
    "            vector[j] -= ratio * vector[i]\n",
    "    \n",
    "    # Back substitution\n",
    "    x = [0] * n\n",
    "    for i in range(n - 1, -1, -1):\n",
    "        x[i] = vector[i]\n",
    "        for j in range(i + 1, n):\n",
    "            x[i] -= matrix[i][j] * x[j]\n",
    "        x[i] /= matrix[i][i]\n",
    "    \n",
    "    return x\n"
   ]
  },
  {
   "cell_type": "markdown",
   "metadata": {},
   "source": [
    "### Python with numpy"
   ]
  },
  {
   "cell_type": "code",
   "execution_count": 6,
   "metadata": {},
   "outputs": [],
   "source": [
    "import numpy as np\n",
    "import scipy\n",
    "\n",
    "def gaussian_elimination_lu(matrix, vector):\n",
    "    \"\"\"\n",
    "    This function performs Gaussian elimination with back substitution using LU decomposition with partial pivoting.\n",
    "    \n",
    "    Args:\n",
    "    n: the size of the square matrix\n",
    "    matrix: the square matrix as a list of lists\n",
    "    vector: the vector as a list\n",
    "    \n",
    "    Returns:\n",
    "    the solution vector as a NumPy array\n",
    "    \n",
    "    \"\"\"\n",
    "    # Convert the matrix and vector to NumPy arrays\n",
    "    \n",
    "\n",
    "    # Perform LU decomposition with partial pivoting\n",
    "    pivoted, L, U = scipy.linalg.lu(matrix)\n",
    "\n",
    "    # Solve the system using back substitution\n",
    "    y = np.linalg.solve(L, pivoted.dot(vector))\n",
    "    x = np.linalg.solve(U, y)\n",
    "\n",
    "    return x\n"
   ]
  },
  {
   "cell_type": "markdown",
   "metadata": {},
   "source": [
    "### Python functions to run our fortran program"
   ]
  },
  {
   "cell_type": "markdown",
   "metadata": {},
   "source": [
    "#### Function to generate the command line args"
   ]
  },
  {
   "cell_type": "code",
   "execution_count": 7,
   "metadata": {},
   "outputs": [],
   "source": [
    "def generate_fortran_args(matrix, vector):\n",
    "        \"\"\"\n",
    "        This function generates command line arguments for a Fortran program.\n",
    "\n",
    "        Args:\n",
    "        matrix: the square matrix as a list of lists\n",
    "        vector: the vector as a list\n",
    "\n",
    "        Returns:\n",
    "        a list of command line arguments\n",
    "\n",
    "        \"\"\"\n",
    "        # Create a new matrix with the vector appended as a new column\n",
    "        new_matrix = [row + [vector[index]] for index, row in enumerate(matrix)]\n",
    "        n = len(matrix)\n",
    "        \n",
    "        matrix_string = \" \".join([str(x) for row in new_matrix for x in row])\n",
    "        with open(\"matrix.txt\", \"w\") as file:\n",
    "                file.write(matrix_string)\n",
    "        # Flatten the matrix into a list of arguments and start with dimensions\n",
    "         \n",
    "        args = [str(n), str(n + 1)] + [\"matrix.txt\"]\n",
    "\n",
    "        return args\n"
   ]
  },
  {
   "cell_type": "markdown",
   "metadata": {},
   "source": [
    "#### Function to execute the fortran command"
   ]
  },
  {
   "cell_type": "code",
   "execution_count": 8,
   "metadata": {},
   "outputs": [],
   "source": [
    "import subprocess\n",
    "\n",
    "def execute_fortran_program(args):\n",
    "    \"\"\"\n",
    "    This function executes a local Fortran program with given command line arguments.\n",
    "    \n",
    "    Args:\n",
    "    args: a list of command line arguments\n",
    "    \n",
    "    Returns:\n",
    "    the output of the Fortran program\n",
    "    \n",
    "    \"\"\"\n",
    "    \n",
    "    # Run the Fortran program with the given arguments using subprocess\n",
    "#     print(args)\n",
    "    output = subprocess.check_output(['./gaussian_elimination'] + args, universal_newlines=True)\n",
    "    \n",
    "    return output\n"
   ]
  },
  {
   "cell_type": "markdown",
   "metadata": {},
   "source": [
    "#### Function to execute the fortran with the generated args and measure the runtime"
   ]
  },
  {
   "cell_type": "code",
   "execution_count": 13,
   "metadata": {},
   "outputs": [
    {
     "name": "stdout",
     "output_type": "stream",
     "text": [
      "[[-666.640368959479, 1329.4297491024777, -1167.557527078372, 1848.77714139224, 426.966687161967], [-942.9840728205336, -288.61828996119107, 1087.8339360817063, -1060.1480201222832, 462.8006923632993], [1103.733385004628, -597.3675732772756, -606.8842071110296, -1282.4711996807214, 1965.2159336968748], [500.3914284282855, 1597.7104977566382, 992.166922262034, -1071.7280978538633, 1565.5405624473738], [-1325.6784598789882, -378.15040633898434, 1679.8796134800264, -1466.4878342626143, 1141.5293948137219]]\n",
      "(5, 5)\n",
      "Executing python with 250 number 1\n",
      "Executing numpy with 250 number 1\n",
      "(250, 250) (250,)\n",
      "Executing python with 250 number 2\n",
      "Executing numpy with 250 number 2\n",
      "(250, 250) (250,)\n",
      "Executing python with 250 number 3\n",
      "Executing numpy with 250 number 3\n",
      "(250, 250) (250,)\n",
      "Executing python with 250 number 4\n",
      "Executing numpy with 250 number 4\n",
      "(250, 250) (250,)\n",
      "Executing python with 250 number 5\n",
      "Executing numpy with 250 number 5\n",
      "(250, 250) (250,)\n"
     ]
    }
   ],
   "source": [
    "def run_and_measure_fortran():\n",
    "    args = generate_fortran_args(10,\n",
    "                                 generate_matrix_and_vector(10),\n",
    "                                 [random.randint(0, 100) for _ in range(10)])\n",
    "    print(args)\n",
    "    execute_fortran_program(args)\n",
    "    \n",
    "\n",
    "\n",
    "sample_size = 5\n",
    "input_sizes = (250,)\n",
    "algorithms = (\"fortran\", \"python no numpy\", \"python with numpy\")\n",
    "results = dict(zip(algorithms, \n",
    "              [dict(zip(input_sizes, \n",
    "                   [[] for item in input_sizes])) for _ in algorithms]))\n",
    "matrix, vector = generate_matrix_and_vector(5)\n",
    "print(matrix)\n",
    "matrix_np = np.array(matrix, dtype=float)\n",
    "vector_np = np.array(vector, dtype=float)\n",
    "print(matrix_np.shape)\n",
    "for n_size in input_sizes:\n",
    "        for sample in range(sample_size):\n",
    "                matrix, vector = generate_matrix_and_vector(n_size)\n",
    "                fortran_args = generate_fortran_args(matrix, vector)\n",
    "                # print(\"There are\",len(fortran_args), \"ARGS\")\n",
    "                \n",
    "                # print(\"Executing Fortran with\", n_size, \"number\", sample+1)\n",
    "                # result_fortran = measure_time(execute_fortran_program,\n",
    "                #                               fortran_args)\n",
    "                # results[\"fortran\"][n_size].append(result_fortran)\n",
    "                # execute_fortran_program(fortran_args)\n",
    "                \n",
    "                print(\"Executing python with\", n_size, \"number\", sample+1)\n",
    "                result_python = measure_time(gaussian_elimination, \n",
    "                                             matrix, vector)\n",
    "                results[\"python no numpy\"][n_size].append(result_python)\n",
    "                \n",
    "                print(\"Executing numpy with\", n_size, \"number\", sample+1)\n",
    "                matrix_np = np.array(matrix, dtype=float)\n",
    "                vector_np = np.array(vector, dtype=float)\n",
    "                print(matrix_np.shape, vector_np.shape)\n",
    "                result_python_numpy = measure_time(gaussian_elimination_lu,\n",
    "                                             matrix_np, vector_np)\n",
    "                results[\"python with numpy\"][n_size].append(result_python_numpy)    "
   ]
  },
  {
   "cell_type": "code",
   "execution_count": 10,
   "metadata": {},
   "outputs": [
    {
     "name": "stdout",
     "output_type": "stream",
     "text": [
      "{'fortran': {250: [], 200: []}, 'python no numpy': {250: [0.3963027000427246, 0.4253401756286621, 0.42356324195861816, 0.4331390857696533, 0.42368364334106445], 200: [0.23825478553771973, 0.2487194538116455, 0.23499631881713867, 0.24068498611450195, 0.23737192153930664]}, 'python with numpy': {250: [1.0382163524627686, 0.39327239990234375, 1.24161958694458, 0.48956751823425293, 0.32180094718933105], 200: [0.3028287887573242, 0.18131327629089355, 0.5121557712554932, 1.0093038082122803, 0.3794260025024414]}}\n"
     ]
    }
   ],
   "source": [
    "print(results)"
   ]
  }
 ],
 "metadata": {
  "kernelspec": {
   "display_name": "Python 3 (ipykernel)",
   "language": "python",
   "name": "python3"
  },
  "language_info": {
   "codemirror_mode": {
    "name": "ipython",
    "version": 3
   },
   "file_extension": ".py",
   "mimetype": "text/x-python",
   "name": "python",
   "nbconvert_exporter": "python",
   "pygments_lexer": "ipython3",
   "version": "3.8.10"
  },
  "vscode": {
   "interpreter": {
    "hash": "e7370f93d1d0cde622a1f8e1c04877d8463912d04d973331ad4851f04de6915a"
   }
  }
 },
 "nbformat": 4,
 "nbformat_minor": 4
}
